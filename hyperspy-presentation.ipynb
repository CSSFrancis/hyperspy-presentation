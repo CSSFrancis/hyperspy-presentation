{
 "cells": [
  {
   "cell_type": "markdown",
   "id": "a448aa8a-15b4-4b28-85a5-fa2e16d584a5",
   "metadata": {
    "slideshow": {
     "slide_type": "slide"
    },
    "tags": []
   },
   "source": [
    "## Hyperspy Presentation"
   ]
  },
  {
   "cell_type": "markdown",
   "id": "90525f7a-dc9c-4666-8705-8a3f9cd3d433",
   "metadata": {
    "slideshow": {
     "slide_type": "slide"
    },
    "tags": []
   },
   "source": [
    "## Importing Hyperspy"
   ]
  },
  {
   "cell_type": "code",
   "execution_count": null,
   "id": "211101d3-1f28-436b-a22c-ce2c835c3e16",
   "metadata": {
    "slideshow": {
     "slide_type": "fragment"
    },
    "tags": []
   },
   "outputs": [],
   "source": [
    "import hyperspy.api as hs"
   ]
  },
  {
   "cell_type": "code",
   "execution_count": null,
   "id": "d42fd035-8e67-4985-b712-cd3014e1a4b6",
   "metadata": {},
   "outputs": [],
   "source": []
  }
 ],
 "metadata": {
  "kernelspec": {
   "display_name": "Python 3 (ipykernel)",
   "language": "python",
   "name": "python3"
  },
  "language_info": {
   "codemirror_mode": {
    "name": "ipython",
    "version": 3
   },
   "file_extension": ".py",
   "mimetype": "text/x-python",
   "name": "python",
   "nbconvert_exporter": "python",
   "pygments_lexer": "ipython3",
   "version": "3.10.10"
  }
 },
 "nbformat": 4,
 "nbformat_minor": 5
}
