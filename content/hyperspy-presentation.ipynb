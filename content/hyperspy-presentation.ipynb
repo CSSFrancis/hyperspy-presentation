{
 "cells": [
  {
   "cell_type": "markdown",
   "id": "a448aa8a-15b4-4b28-85a5-fa2e16d584a5",
   "metadata": {
    "slideshow": {
     "slide_type": "slide"
    },
    "tags": []
   },
   "source": [
    "## Hyperspy New Features"
   ]
  },
  {
   "cell_type": "code",
   "execution_count": 2,
   "id": "211101d3-1f28-436b-a22c-ce2c835c3e16",
   "metadata": {
    "slideshow": {
     "slide_type": "fragment"
    },
    "tags": []
   },
   "outputs": [
    {
     "name": "stdout",
     "output_type": "stream",
     "text": [
      "Note: you may need to restart the kernel to use updated packages.\n"
     ]
    }
   ],
   "source": [
    "%pip install -q hyperspy --pre"
   ]
  },
  {
   "cell_type": "code",
   "execution_count": 24,
   "id": "d42fd035-8e67-4985-b712-cd3014e1a4b6",
   "metadata": {},
   "outputs": [],
   "source": [
    "import hyperspy.api as hs\n",
    "import numpy as np"
   ]
  },
  {
   "cell_type": "code",
   "execution_count": 5,
   "id": "b0998b3d-7285-460b-b879-9eea73ff1f2f",
   "metadata": {
    "tags": []
   },
   "outputs": [],
   "source": [
    "hs.set_log_level(\"ERROR\")"
   ]
  },
  {
   "cell_type": "markdown",
   "id": "872939cd-5b7b-4e6b-8919-9d368b374789",
   "metadata": {},
   "source": [
    "## Creating a Moving Atomic Resolution Image"
   ]
  },
  {
   "cell_type": "code",
   "execution_count": 25,
   "id": "846ceead-25bf-4292-abab-38e39b01849a",
   "metadata": {
    "tags": []
   },
   "outputs": [
    {
     "name": "stdout",
     "output_type": "stream",
     "text": [
      "[########################################] | 100% Completed | 102.69 ms\n",
      "[########################################] | 100% Completed | 106.02 ms\n"
     ]
    }
   ],
   "source": [
    "s = hs.data.atomic_resolution_image()\n",
    "s = hs.stack([s,s,s,s,s,s])\n",
    "s.align2D(shifts = np.array([[0,0], [1,1],[2,2],[3,3],[4,4],[5,5]]))"
   ]
  },
  {
   "cell_type": "markdown",
   "id": "459dfbab-330a-4a62-9ad5-5739e63c7a59",
   "metadata": {},
   "source": [
    "### Let's Try This Lazily\n",
    "\n",
    "Now markers in hyperspy can be created lazily.  This has very huge implications for super large datasets.  It also allows things like lazy vectors to work much more efficiently than before.  With the much faster vector saving in hyperspy vectors and ragged signals are now a 1st class object in hyperspy. \n",
    "\n"
   ]
  },
  {
   "cell_type": "code",
   "execution_count": 40,
   "id": "5a0bc7cc-2c6e-4ccc-a623-59ca721b90db",
   "metadata": {
    "tags": []
   },
   "outputs": [],
   "source": [
    "s = s.as_lazy()"
   ]
  },
  {
   "cell_type": "markdown",
   "id": "bfce4cfe-4d5b-469e-a2f5-bb693c789918",
   "metadata": {},
   "source": [
    "## Horizontal Plotting\n",
    "\n",
    "Hyperspy now supports horizontal plotting so you can see both the navigator and the signal in the same field of view!"
   ]
  },
  {
   "cell_type": "code",
   "execution_count": 41,
   "id": "e67ddaa2-f4f2-4b49-9f08-41d0dcc38193",
   "metadata": {
    "tags": []
   },
   "outputs": [
    {
     "name": "stdout",
     "output_type": "stream",
     "text": [
      "[########################################] | 100% Completed | 106.02 ms\n"
     ]
    },
    {
     "data": {
      "application/vnd.jupyter.widget-view+json": {
       "model_id": "e68fbd3132ed4a0da94ffc8fdbd62e08",
       "version_major": 2,
       "version_minor": 0
      },
      "text/plain": [
       "HBox(children=(Canvas(toolbar=Toolbar(toolitems=[('Home', 'Reset original view', 'home', 'home'), ('Back', 'Ba…"
      ]
     },
     "metadata": {},
     "output_type": "display_data"
    }
   ],
   "source": [
    "%matplotlib ipympl\n",
    "s.plot()"
   ]
  },
  {
   "cell_type": "markdown",
   "id": "4634ed74-26e0-4d18-bceb-5763255885a3",
   "metadata": {
    "tags": []
   },
   "source": [
    "## Lets try some Peak Finding\n",
    "\n",
    "This is a cool new feature :) We can add __lazy__ makers to a plot.  Also because we use matplotlib collections it is much faster!"
   ]
  },
  {
   "cell_type": "code",
   "execution_count": 49,
   "id": "1318da38-7252-408e-ad69-f93df46917a3",
   "metadata": {
    "tags": []
   },
   "outputs": [
    {
     "data": {
      "text/html": [
       "<table>\n",
       "    <tr>\n",
       "        <td>\n",
       "            <table>\n",
       "                <thead>\n",
       "                    <tr>\n",
       "                        <th> Title: </th>\n",
       "                        <td> Stack of  </td>\n",
       "                    </tr>\n",
       "                    <tr>\n",
       "                        <th> SignalType: </th>\n",
       "                        <td>  </td>\n",
       "                    </tr>\n",
       "                </thead>\n",
       "                <thead>\n",
       "                    <tr>\n",
       "                        <td>  </td>\n",
       "                        <th> Array </th>\n",
       "                        <th> Chunk </th>\n",
       "                    </tr>\n",
       "                </thead>\n",
       "                <tbody>\n",
       "                    \n",
       "                    <tr>\n",
       "                        <th> Bytes </th>\n",
       "                        <td> 48 B </td>\n",
       "                        <td> 48 B </td>\n",
       "                    </tr>\n",
       "                    \n",
       "                    <tr>\n",
       "                        <th> Shape </th>\n",
       "                        <td> (6|ragged) </td>\n",
       "                        <td> (<b>6</b>|) </td>\n",
       "                    </tr>\n",
       "                    <tr>\n",
       "                        <th> Count </th>\n",
       "                        <td> 2 Tasks </td>\n",
       "                        <td> 1 Chunks </td>\n",
       "                    </tr>\n",
       "                    <tr>\n",
       "                    <th> Type </th>\n",
       "                    <td> object </td>\n",
       "                    <td> numpy.ndarray </td>\n",
       "                    </tr>\n",
       "                </tbody>\n",
       "            </table>\n",
       "        </td>\n",
       "        <td>\n",
       "            <table>\n",
       "                <thead>\n",
       "                    <tr>\n",
       "                        <th><p style=\"text-align:left;\">Navigation Axes</p>  </th>\n",
       "                        <th> <p style=\"text-align:left;\">Signal Axes</p> </th>\n",
       "                    </tr>\n",
       "                </thead>\n",
       "                <tbody>\n",
       "                    <tr>\n",
       "                        <td> <svg width=\"170\" height=\"91\" style=\"stroke:rgb(0,0,0);stroke-width:1\" >\n",
       "\n",
       "  <!-- Horizontal lines -->\n",
       "  <line x1=\"0\" y1=\"0\" x2=\"120\" y2=\"0\" style=\"stroke-width:2\" />\n",
       "  <line x1=\"0\" y1=\"41\" x2=\"120\" y2=\"41\" style=\"stroke-width:2\" />\n",
       "\n",
       "  <!-- Vertical lines -->\n",
       "  <line x1=\"0\" y1=\"0\" x2=\"0\" y2=\"41\" style=\"stroke-width:2\" />\n",
       "  <line x1=\"120\" y1=\"0\" x2=\"120\" y2=\"41\" style=\"stroke-width:2\" />\n",
       "\n",
       "  <!-- Colored Rectangle -->\n",
       "  <polygon points=\"0.0,0.0 120.0,0.0 120.0,41.20382942136741 0.0,41.20382942136741\" style=\"fill:#ECB172A0;stroke-width:0\"/>\n",
       "\n",
       "  <!-- Text -->\n",
       "  <text x=\"60.000000\" y=\"61.203829\" font-size=\"1.0rem\" font-weight=\"100\" text-anchor=\"middle\" >6</text>\n",
       "  <text x=\"140.000000\" y=\"20.601915\" font-size=\"1.0rem\" font-weight=\"100\" text-anchor=\"middle\" transform=\"rotate(0,140.000000,20.601915)\">1</text>\n",
       "</svg> </td>\n",
       "                        <td>  </td>\n",
       "                    </tr>\n",
       "                </tbody>\n",
       "            </table>\n",
       "        </td>\n",
       "    </tr>\n",
       "</table>"
      ],
      "text/plain": [
       "<LazySignal, title: Stack of , dimensions: (6|ragged)>"
      ]
     },
     "metadata": {},
     "output_type": "display_data"
    },
    {
     "data": {
      "application/vnd.jupyter.widget-view+json": {
       "model_id": "5d74346959344d539bb530f25664c17d",
       "version_major": 2,
       "version_minor": 0
      },
      "text/plain": [
       "HBox(children=(Canvas(toolbar=Toolbar(toolitems=[('Home', 'Reset original view', 'home', 'home'), ('Back', 'Ba…"
      ]
     },
     "metadata": {},
     "output_type": "display_data"
    }
   ],
   "source": [
    "pks = s.find_peaks(interactive=False)\n",
    "display(pks) # note that this is lazy\n",
    "markers = hs.plot.markers.Points.from_signal(pks, alpha=0.5, color=\"red\", sizes=(20))\n",
    "s.plot()\n",
    "s.add_marker(markers)"
   ]
  },
  {
   "cell_type": "code",
   "execution_count": null,
   "id": "f5375e6e-125f-4b3f-85d3-4d46bf375eb2",
   "metadata": {},
   "outputs": [],
   "source": []
  }
 ],
 "metadata": {
  "kernelspec": {
   "display_name": "Python 3 (ipykernel)",
   "language": "python",
   "name": "python3"
  },
  "language_info": {
   "codemirror_mode": {
    "name": "ipython",
    "version": 3
   },
   "file_extension": ".py",
   "mimetype": "text/x-python",
   "name": "python",
   "nbconvert_exporter": "python",
   "pygments_lexer": "ipython3",
   "version": "3.10.10"
  }
 },
 "nbformat": 4,
 "nbformat_minor": 5
}
